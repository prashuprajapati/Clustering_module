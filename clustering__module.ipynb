{
  "nbformat": 4,
  "nbformat_minor": 0,
  "metadata": {
    "colab": {
      "provenance": [],
      "authorship_tag": "ABX9TyNzHdVM39NCLGdaR+nshtnp",
      "include_colab_link": true
    },
    "kernelspec": {
      "name": "python3",
      "display_name": "Python 3"
    },
    "language_info": {
      "name": "python"
    }
  },
  "cells": [
    {
      "cell_type": "markdown",
      "metadata": {
        "id": "view-in-github",
        "colab_type": "text"
      },
      "source": [
        "<a href=\"https://colab.research.google.com/github/prashuprajapati/Clustering_module/blob/main/clustering__module.ipynb\" target=\"_parent\"><img src=\"https://colab.research.google.com/assets/colab-badge.svg\" alt=\"Open In Colab\"/></a>"
      ]
    },
    {
      "cell_type": "code",
      "execution_count": null,
      "metadata": {
        "id": "aPNBh417LEI6"
      },
      "outputs": [],
      "source": [
        "\n",
        "#create dataset\n",
        "from sklearn.datasets import make_blobs\n",
        "# here, x is a features and y is number of cluster\n",
        "x,y=make_blobs(n_samples=150,n_features=2,centers=3,cluster_std=0.9)  \n"
      ]
    },
    {
      "cell_type": "code",
      "source": [
        "import matplotlib.pyplot as plt\n",
        "plt.scatter(x[:,0],x[:,1])\n"
      ],
      "metadata": {
        "colab": {
          "base_uri": "https://localhost:8080/",
          "height": 282
        },
        "id": "bwcRHLHYLhEB",
        "outputId": "8fe03677-7592-47fc-ee21-1125c5ca77db"
      },
      "execution_count": null,
      "outputs": [
        {
          "output_type": "execute_result",
          "data": {
            "text/plain": [
              "<matplotlib.collections.PathCollection at 0x7f12fb192ca0>"
            ]
          },
          "metadata": {},
          "execution_count": 2
        },
        {
          "output_type": "display_data",
          "data": {
            "text/plain": [
              "<Figure size 432x288 with 1 Axes>"
            ],
            "image/png": "[encoded data removed]"
          },
          "metadata": {
            "needs_background": "light"
          }
        }
      ]
    },
    {
      "cell_type": "code",
      "source": [
        " # find the number of cluster using alog\n",
        "from sklearn.cluster import KMeans\n",
        "wcss=[]\n",
        "K=[1,2,3,4,5,6,7,8,9]\n",
        "for i in K:\n",
        "  km=KMeans(n_clusters=i)\n",
        "  km.fit(x)\n",
        "  wcss.append(km.inertia_)\n",
        "wcss"
      ],
      "metadata": {
        "colab": {
          "base_uri": "https://localhost:8080/"
        },
        "id": "ILMabrLXLkjJ",
        "outputId": "07d6fdf1-ff7c-4a8b-a500-bbf30839ea05"
      },
      "execution_count": null,
      "outputs": [
        {
          "output_type": "execute_result",
          "data": {
            "text/plain": [
              "[4868.608060928875,\n",
              " 291.7633278685841,\n",
              " 187.9621153437729,\n",
              " 159.05676586918182,\n",
              " 131.7709742749172,\n",
              " 110.65322858286464,\n",
              " 96.46683473000157,\n",
              " 83.8747040319947,\n",
              " 75.0444376205858]"
            ]
          },
          "metadata": {},
          "execution_count": 3
        }
      ]
    },
    {
      "cell_type": "code",
      "source": [
        "plt.plot(K,wcss)"
      ],
      "metadata": {
        "colab": {
          "base_uri": "https://localhost:8080/",
          "height": 282
        },
        "id": "8_Kbl4D2LkVH",
        "outputId": "7d23e621-3870-4fc3-9f9e-88254ee11a5d"
      },
      "execution_count": null,
      "outputs": [
        {
          "output_type": "execute_result",
          "data": {
            "text/plain": [
              "[<matplotlib.lines.Line2D at 0x7f12f58a0a90>]"
            ]
          },
          "metadata": {},
          "execution_count": 4
        },
        {
          "output_type": "display_data",
          "data": {
            "text/plain": [
              "<Figure size 432x288 with 1 Axes>"
            ],
            "image/png": "[encoded data removed]"
          },
          "metadata": {
            "needs_background": "light"
          }
        }
      ]
    },
    {
      "cell_type": "code",
      "source": [
        "km=KMeans(n_clusters=3)\n",
        "ypred=km.fit_predict(x) # it fit and return the number of k for feature\n",
        "ypred"
      ],
      "metadata": {
        "colab": {
          "base_uri": "https://localhost:8080/"
        },
        "id": "a76zpHSpLkHl",
        "outputId": "ee1669ef-d19c-4c43-c1ed-9051919ddeac"
      },
      "execution_count": null,
      "outputs": [
        {
          "output_type": "execute_result",
          "data": {
            "text/plain": [
              "array([1, 0, 1, 1, 1, 1, 0, 1, 2, 0, 0, 2, 0, 0, 0, 0, 1, 2, 1, 0, 2, 1,\n",
              "       0, 2, 0, 1, 0, 2, 2, 1, 2, 2, 0, 1, 0, 0, 1, 2, 0, 1, 2, 1, 2, 1,\n",
              "       1, 0, 1, 2, 2, 0, 0, 1, 0, 1, 2, 0, 0, 0, 2, 0, 0, 1, 2, 2, 0, 0,\n",
              "       0, 1, 2, 1, 1, 2, 1, 2, 0, 1, 1, 1, 1, 1, 0, 0, 0, 0, 2, 0, 1, 0,\n",
              "       1, 0, 2, 1, 1, 1, 2, 0, 1, 0, 0, 2, 1, 1, 2, 1, 2, 2, 2, 2, 0, 2,\n",
              "       1, 2, 2, 1, 2, 2, 2, 0, 2, 0, 0, 1, 0, 0, 1, 0, 0, 0, 0, 0, 2, 1,\n",
              "       1, 0, 0, 0, 0, 1, 1, 2, 1, 1, 0, 2, 1, 0, 2, 2, 0, 0], dtype=int32)"
            ]
          },
          "metadata": {},
          "execution_count": 5
        }
      ]
    },
    {
      "cell_type": "code",
      "source": [
        "#visualize \n",
        "plt.scatter(x[:,0],x[:,1],c=ypred)"
      ],
      "metadata": {
        "colab": {
          "base_uri": "https://localhost:8080/",
          "height": 282
        },
        "id": "DfPzPHrRLmJG",
        "outputId": "a2725817-c416-4f65-d81c-d67b6a226ace"
      },
      "execution_count": null,
      "outputs": [
        {
          "output_type": "execute_result",
          "data": {
            "text/plain": [
              "<matplotlib.collections.PathCollection at 0x7f12f5887820>"
            ]
          },
          "metadata": {},
          "execution_count": 6
        },
        {
          "output_type": "display_data",
          "data": {
            "text/plain": [
              "<Figure size 432x288 with 1 Axes>"
            ],
            "image/png": "[encoded data removed]"
          },
          "metadata": {
            "needs_background": "light"
          }
        }
      ]
    },
    {
      "cell_type": "code",
      "source": [],
      "metadata": {
        "id": "JODUQVuYLl9Z"
      },
      "execution_count": null,
      "outputs": []
    }
  ]
}